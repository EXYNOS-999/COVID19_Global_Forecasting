{
  "nbformat": 4,
  "nbformat_minor": 0,
  "metadata": {
    "kernelspec": {
      "display_name": "Python 3",
      "language": "python",
      "name": "python3"
    },
    "language_info": {
      "codemirror_mode": {
        "name": "ipython",
        "version": 3
      },
      "file_extension": ".py",
      "mimetype": "text/x-python",
      "name": "python",
      "nbconvert_exporter": "python",
      "pygments_lexer": "ipython3",
      "version": "3.7.3"
    },
    "colab": {
      "name": "COVID-19 Global Afghanistan.ipynb",
      "provenance": [],
      "include_colab_link": true
    }
  },
  "cells": [
    {
      "cell_type": "markdown",
      "metadata": {
        "id": "view-in-github",
        "colab_type": "text"
      },
      "source": [
        "<a href=\"https://colab.research.google.com/github/EXYNOS-999/COVID19_Global_Forecasting/blob/master/COVID_19_Global_Afghanistan.ipynb\" target=\"_parent\"><img src=\"https://colab.research.google.com/assets/colab-badge.svg\" alt=\"Open In Colab\"/></a>"
      ]
    },
    {
      "cell_type": "code",
      "metadata": {
        "id": "EeKO73zPGF2I",
        "colab_type": "code",
        "colab": {}
      },
      "source": [
        "import pandas as pd\n",
        "import numpy as np\n",
        "import os\n",
        "import matplotlib.pyplot as plt\n",
        "import statsmodels.tsa.holtwinters as ets"
      ],
      "execution_count": 0,
      "outputs": []
    },
    {
      "cell_type": "code",
      "metadata": {
        "id": "sIr2hMXtGeP4",
        "colab_type": "code",
        "colab": {
          "base_uri": "https://localhost:8080/",
          "height": 36
        },
        "outputId": "b1b1ada0-46c0-4096-a314-9dc3a6d4364e"
      },
      "source": [
        "from google.colab import drive\n",
        "drive.mount('/content/gdrive')"
      ],
      "execution_count": 192,
      "outputs": [
        {
          "output_type": "stream",
          "text": [
            "Drive already mounted at /content/gdrive; to attempt to forcibly remount, call drive.mount(\"/content/gdrive\", force_remount=True).\n"
          ],
          "name": "stdout"
        }
      ]
    },
    {
      "cell_type": "code",
      "metadata": {
        "scrolled": true,
        "id": "q7m5DjCLGF2a",
        "colab_type": "code",
        "colab": {
          "base_uri": "https://localhost:8080/",
          "height": 206
        },
        "outputId": "fbcc2ba6-d2d3-4bd9-cc2b-745a163d655e"
      },
      "source": [
        "Afghanistan_Train = pd.read_csv(r\"/content/Afganistan_Train.csv\")\n",
        "Afghanistan_Train['LogConfirmedCases'] = np.log(Afghanistan_Train['ConfirmedCases'].replace(0,np.nan))\n",
        "Afghanistan_Train.head()"
      ],
      "execution_count": 193,
      "outputs": [
        {
          "output_type": "execute_result",
          "data": {
            "text/html": [
              "<div>\n",
              "<style scoped>\n",
              "    .dataframe tbody tr th:only-of-type {\n",
              "        vertical-align: middle;\n",
              "    }\n",
              "\n",
              "    .dataframe tbody tr th {\n",
              "        vertical-align: top;\n",
              "    }\n",
              "\n",
              "    .dataframe thead th {\n",
              "        text-align: right;\n",
              "    }\n",
              "</style>\n",
              "<table border=\"1\" class=\"dataframe\">\n",
              "  <thead>\n",
              "    <tr style=\"text-align: right;\">\n",
              "      <th></th>\n",
              "      <th>Id</th>\n",
              "      <th>Province/State</th>\n",
              "      <th>Country/Region</th>\n",
              "      <th>Date</th>\n",
              "      <th>ConfirmedCases</th>\n",
              "      <th>Fatalities</th>\n",
              "      <th>LogConfirmedCases</th>\n",
              "    </tr>\n",
              "  </thead>\n",
              "  <tbody>\n",
              "    <tr>\n",
              "      <th>0</th>\n",
              "      <td>1</td>\n",
              "      <td>NaN</td>\n",
              "      <td>Afghanistan</td>\n",
              "      <td>1/22/20</td>\n",
              "      <td>0</td>\n",
              "      <td>0</td>\n",
              "      <td>NaN</td>\n",
              "    </tr>\n",
              "    <tr>\n",
              "      <th>1</th>\n",
              "      <td>2</td>\n",
              "      <td>NaN</td>\n",
              "      <td>Afghanistan</td>\n",
              "      <td>1/23/20</td>\n",
              "      <td>0</td>\n",
              "      <td>0</td>\n",
              "      <td>NaN</td>\n",
              "    </tr>\n",
              "    <tr>\n",
              "      <th>2</th>\n",
              "      <td>3</td>\n",
              "      <td>NaN</td>\n",
              "      <td>Afghanistan</td>\n",
              "      <td>1/24/20</td>\n",
              "      <td>0</td>\n",
              "      <td>0</td>\n",
              "      <td>NaN</td>\n",
              "    </tr>\n",
              "    <tr>\n",
              "      <th>3</th>\n",
              "      <td>4</td>\n",
              "      <td>NaN</td>\n",
              "      <td>Afghanistan</td>\n",
              "      <td>1/25/20</td>\n",
              "      <td>0</td>\n",
              "      <td>0</td>\n",
              "      <td>NaN</td>\n",
              "    </tr>\n",
              "    <tr>\n",
              "      <th>4</th>\n",
              "      <td>5</td>\n",
              "      <td>NaN</td>\n",
              "      <td>Afghanistan</td>\n",
              "      <td>1/26/20</td>\n",
              "      <td>0</td>\n",
              "      <td>0</td>\n",
              "      <td>NaN</td>\n",
              "    </tr>\n",
              "  </tbody>\n",
              "</table>\n",
              "</div>"
            ],
            "text/plain": [
              "   Id  Province/State  ... Fatalities LogConfirmedCases\n",
              "0   1             NaN  ...          0               NaN\n",
              "1   2             NaN  ...          0               NaN\n",
              "2   3             NaN  ...          0               NaN\n",
              "3   4             NaN  ...          0               NaN\n",
              "4   5             NaN  ...          0               NaN\n",
              "\n",
              "[5 rows x 7 columns]"
            ]
          },
          "metadata": {
            "tags": []
          },
          "execution_count": 193
        }
      ]
    },
    {
      "cell_type": "code",
      "metadata": {
        "id": "8bAZ1xgBGF2o",
        "colab_type": "code",
        "colab": {
          "base_uri": "https://localhost:8080/",
          "height": 206
        },
        "outputId": "6ca0e7bc-f009-4c46-945b-987ee05d8f6d"
      },
      "source": [
        "Afghanistan_Test = pd.read_csv(r\"/content/Afghanistan_Test.csv\")\n",
        "Afghanistan_Test.head()"
      ],
      "execution_count": 194,
      "outputs": [
        {
          "output_type": "execute_result",
          "data": {
            "text/html": [
              "<div>\n",
              "<style scoped>\n",
              "    .dataframe tbody tr th:only-of-type {\n",
              "        vertical-align: middle;\n",
              "    }\n",
              "\n",
              "    .dataframe tbody tr th {\n",
              "        vertical-align: top;\n",
              "    }\n",
              "\n",
              "    .dataframe thead th {\n",
              "        text-align: right;\n",
              "    }\n",
              "</style>\n",
              "<table border=\"1\" class=\"dataframe\">\n",
              "  <thead>\n",
              "    <tr style=\"text-align: right;\">\n",
              "      <th></th>\n",
              "      <th>ForecastId</th>\n",
              "      <th>Province/State</th>\n",
              "      <th>Country/Region</th>\n",
              "      <th>Date</th>\n",
              "      <th>ConfirmedCases</th>\n",
              "      <th>Fatalities</th>\n",
              "      <th>LogConfirmedCases</th>\n",
              "    </tr>\n",
              "  </thead>\n",
              "  <tbody>\n",
              "    <tr>\n",
              "      <th>0</th>\n",
              "      <td>1</td>\n",
              "      <td>NaN</td>\n",
              "      <td>Afghanistan</td>\n",
              "      <td>3/12/20</td>\n",
              "      <td>NaN</td>\n",
              "      <td>NaN</td>\n",
              "      <td>NaN</td>\n",
              "    </tr>\n",
              "    <tr>\n",
              "      <th>1</th>\n",
              "      <td>2</td>\n",
              "      <td>NaN</td>\n",
              "      <td>Afghanistan</td>\n",
              "      <td>3/13/20</td>\n",
              "      <td>NaN</td>\n",
              "      <td>NaN</td>\n",
              "      <td>NaN</td>\n",
              "    </tr>\n",
              "    <tr>\n",
              "      <th>2</th>\n",
              "      <td>3</td>\n",
              "      <td>NaN</td>\n",
              "      <td>Afghanistan</td>\n",
              "      <td>3/14/20</td>\n",
              "      <td>NaN</td>\n",
              "      <td>NaN</td>\n",
              "      <td>NaN</td>\n",
              "    </tr>\n",
              "    <tr>\n",
              "      <th>3</th>\n",
              "      <td>4</td>\n",
              "      <td>NaN</td>\n",
              "      <td>Afghanistan</td>\n",
              "      <td>3/15/20</td>\n",
              "      <td>NaN</td>\n",
              "      <td>NaN</td>\n",
              "      <td>NaN</td>\n",
              "    </tr>\n",
              "    <tr>\n",
              "      <th>4</th>\n",
              "      <td>5</td>\n",
              "      <td>NaN</td>\n",
              "      <td>Afghanistan</td>\n",
              "      <td>3/16/20</td>\n",
              "      <td>NaN</td>\n",
              "      <td>NaN</td>\n",
              "      <td>NaN</td>\n",
              "    </tr>\n",
              "  </tbody>\n",
              "</table>\n",
              "</div>"
            ],
            "text/plain": [
              "   ForecastId  Province/State  ... Fatalities LogConfirmedCases\n",
              "0           1             NaN  ...        NaN               NaN\n",
              "1           2             NaN  ...        NaN               NaN\n",
              "2           3             NaN  ...        NaN               NaN\n",
              "3           4             NaN  ...        NaN               NaN\n",
              "4           5             NaN  ...        NaN               NaN\n",
              "\n",
              "[5 rows x 7 columns]"
            ]
          },
          "metadata": {
            "tags": []
          },
          "execution_count": 194
        }
      ]
    },
    {
      "cell_type": "code",
      "metadata": {
        "id": "_kjHjGXkGF26",
        "colab_type": "code",
        "colab": {
          "base_uri": "https://localhost:8080/",
          "height": 314
        },
        "outputId": "0e10f2c1-36ac-40e0-8e29-4c5d1a4d0ca3"
      },
      "source": [
        "ax = Afghanistan_Train.plot(kind = 'line', x ='Date', y = 'ConfirmedCases', title = 'Confirmed Cases', legend=False)\n",
        "ax.set_xlabel('Date')\n",
        "ax.set_ylabel('Number of Cases')\n",
        "ax"
      ],
      "execution_count": 195,
      "outputs": [
        {
          "output_type": "execute_result",
          "data": {
            "text/plain": [
              "<matplotlib.axes._subplots.AxesSubplot at 0x7f5c1afbc6d8>"
            ]
          },
          "metadata": {
            "tags": []
          },
          "execution_count": 195
        },
        {
          "output_type": "display_data",
          "data": {
            "image/png": "[encoded data removed]",
            "text/plain": [
              "<Figure size 432x288 with 1 Axes>"
            ]
          },
          "metadata": {
            "tags": []
          }
        }
      ]
    },
    {
      "cell_type": "code",
      "metadata": {
        "id": "ucxWUunvGF3F",
        "colab_type": "code",
        "colab": {
          "base_uri": "https://localhost:8080/",
          "height": 314
        },
        "outputId": "f42e5f4f-d850-4813-e410-c1dbd1581af7"
      },
      "source": [
        "ax = Afghanistan_Train.plot(kind = 'line', x ='Date', y = 'LogConfirmedCases', title='Log-scale Confirmed Cases', legend=False)\n",
        "ax.set_xlabel('Date')\n",
        "ax.set_ylabel('Number of Log Confirmed Cases')\n",
        "ax"
      ],
      "execution_count": 196,
      "outputs": [
        {
          "output_type": "execute_result",
          "data": {
            "text/plain": [
              "<matplotlib.axes._subplots.AxesSubplot at 0x7f5c1af691d0>"
            ]
          },
          "metadata": {
            "tags": []
          },
          "execution_count": 196
        },
        {
          "output_type": "display_data",
          "data": {
            "image/png": "[encoded data removed]",
            "text/plain": [
              "<Figure size 432x288 with 1 Axes>"
            ]
          },
          "metadata": {
            "tags": []
          }
        }
      ]
    },
    {
      "cell_type": "code",
      "metadata": {
        "id": "xpXEVaQLGF3P",
        "colab_type": "code",
        "colab": {}
      },
      "source": [
        "Afghanistan_Train_Forcast = Afghanistan_Train[['Date','LogConfirmedCases']]\n",
        "Afghanistan_Train_Forcast = Afghanistan_Train_Forcast.set_index('Date')\n",
        "Afghanistan_Train_Forcast = Afghanistan_Train_Forcast.fillna(0)\n",
        "Afghanistan_Test_Forcast  = Afghanistan_Test[['Date','LogConfirmedCases']]\n",
        "Afghanistan_Test_Forcast = Afghanistan_Test_Forcast.set_index('Date')"
      ],
      "execution_count": 0,
      "outputs": []
    },
    {
      "cell_type": "code",
      "metadata": {
        "id": "oF7bi3pxGF3X",
        "colab_type": "code",
        "colab": {
          "base_uri": "https://localhost:8080/",
          "height": 75
        },
        "outputId": "8d23f62e-0c70-45a6-958c-a98df9bb6166"
      },
      "source": [
        "Holt_Afghanistan_Train = ets.ExponentialSmoothing(Afghanistan_Train_Forcast, trend = 'additive', damped = True, seasonal = None).fit(smoothing_slope = 0.1)\n",
        "Holt_Afghanistan_Forecast = Holt_Afghanistan_Train.forecast(steps = len(Afghanistan_Test_Forcast))\n",
        "Holt_Afghanistan_Forecast = Holt_Afghanistan_Forecast.to_frame()\n",
        "Holt_Afghanistan_Forecast.columns = ['LogConfirmedCases']"
      ],
      "execution_count": 198,
      "outputs": [
        {
          "output_type": "stream",
          "text": [
            "/usr/local/lib/python3.6/dist-packages/statsmodels/tsa/base/tsa_model.py:165: ValueWarning: No frequency information was provided, so inferred frequency D will be used.\n",
            "  % freq, ValueWarning)\n"
          ],
          "name": "stderr"
        }
      ]
    },
    {
      "cell_type": "code",
      "metadata": {
        "id": "SgiWVGQzGF3d",
        "colab_type": "code",
        "colab": {}
      },
      "source": [
        "ConfirmedCases_Forecast_Afghanistan = np.exp(Holt_Afghanistan_Forecast['LogConfirmedCases'])\n",
        "Fatalities_Forecast_Afghanistan = ConfirmedCases_Forecast_Afghanistan * 0.04"
      ],
      "execution_count": 0,
      "outputs": []
    },
    {
      "cell_type": "code",
      "metadata": {
        "id": "O-zJ7TfJGF3o",
        "colab_type": "code",
        "colab": {}
      },
      "source": [
        "Afghanistan_Test['ConfirmedCases'] = ConfirmedCases_Forecast_Afghanistan.values\n",
        "Afghanistan_Test['Fatalities'] = Fatalities_Forecast_Afghanistan.values\n",
        "Afghanistan_Test['LogConfirmedCases'] = Holt_Afghanistan_Forecast.values"
      ],
      "execution_count": 0,
      "outputs": []
    },
    {
      "cell_type": "code",
      "metadata": {
        "id": "g_pmiHVPGF3u",
        "colab_type": "code",
        "colab": {}
      },
      "source": [
        "Afghanistan_Test_Merge = Afghanistan_Test.drop(['ForecastId'],axis=1)\n",
        "Afghanistan_Train_Merge = Afghanistan_Train.drop(['Id'],axis=1)\n",
        "Afghanistan_Final = Afghanistan_Train_Merge.append(Afghanistan_Test_Merge)\n"
      ],
      "execution_count": 0,
      "outputs": []
    },
    {
      "cell_type": "code",
      "metadata": {
        "id": "IBhqOu0zGF35",
        "colab_type": "code",
        "colab": {
          "base_uri": "https://localhost:8080/",
          "height": 314
        },
        "outputId": "5653ebe2-4b2b-4aa0-d1fb-20e03c3e63e8"
      },
      "source": [
        "ax = Afghanistan_Final.plot(kind = 'line', x ='Date', y = 'ConfirmedCases', title='Case Forcast',legend=False)\n",
        "ax.set_xlabel('Date')\n",
        "ax.set_ylabel('Number of Cases')\n",
        "ax"
      ],
      "execution_count": 202,
      "outputs": [
        {
          "output_type": "execute_result",
          "data": {
            "text/plain": [
              "<matplotlib.axes._subplots.AxesSubplot at 0x7f5c1b5ea438>"
            ]
          },
          "metadata": {
            "tags": []
          },
          "execution_count": 202
        },
        {
          "output_type": "display_data",
          "data": {
            "image/png": "[encoded data removed]",
            "text/plain": [
              "<Figure size 432x288 with 1 Axes>"
            ]
          },
          "metadata": {
            "tags": []
          }
        }
      ]
    },
    {
      "cell_type": "code",
      "metadata": {
        "id": "L1vTrz4rGF4E",
        "colab_type": "code",
        "colab": {
          "base_uri": "https://localhost:8080/",
          "height": 314
        },
        "outputId": "cd195b89-f6e3-44a6-8c1d-235892662f23"
      },
      "source": [
        "ax = Afghanistan_Final.plot(kind = 'line', x ='Date', y = 'Fatalities', title='Fatal Case Forecast',legend=False)\n",
        "ax.set_xlabel('Date')\n",
        "ax.set_ylabel('Number of Deaths')\n",
        "ax"
      ],
      "execution_count": 203,
      "outputs": [
        {
          "output_type": "execute_result",
          "data": {
            "text/plain": [
              "<matplotlib.axes._subplots.AxesSubplot at 0x7f5c1b3ebc50>"
            ]
          },
          "metadata": {
            "tags": []
          },
          "execution_count": 203
        },
        {
          "output_type": "display_data",
          "data": {
            "image/png": "[encoded data removed]",
            "text/plain": [
              "<Figure size 432x288 with 1 Axes>"
            ]
          },
          "metadata": {
            "tags": []
          }
        }
      ]
    }
  ]
}
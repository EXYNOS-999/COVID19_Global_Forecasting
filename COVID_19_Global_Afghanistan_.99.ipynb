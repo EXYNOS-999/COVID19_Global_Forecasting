{
  "nbformat": 4,
  "nbformat_minor": 0,
  "metadata": {
    "kernelspec": {
      "display_name": "Python 3",
      "language": "python",
      "name": "python3"
    },
    "language_info": {
      "codemirror_mode": {
        "name": "ipython",
        "version": 3
      },
      "file_extension": ".py",
      "mimetype": "text/x-python",
      "name": "python",
      "nbconvert_exporter": "python",
      "pygments_lexer": "ipython3",
      "version": "3.7.3"
    },
    "colab": {
      "name": "COVID-19 Global Afghanistan.ipynb",
      "provenance": [],
      "include_colab_link": true
    }
  },
  "cells": [
    {
      "cell_type": "markdown",
      "metadata": {
        "id": "view-in-github",
        "colab_type": "text"
      },
      "source": [
        "<a href=\"https://colab.research.google.com/github/EXYNOS-999/COVID19_Global_Forecasting/blob/master/COVID_19_Global_Afghanistan_.99.ipynb\" target=\"_parent\"><img src=\"https://colab.research.google.com/assets/colab-badge.svg\" alt=\"Open In Colab\"/></a>"
      ]
    },
    {
      "cell_type": "code",
      "metadata": {
        "id": "EeKO73zPGF2I",
        "colab_type": "code",
        "colab": {}
      },
      "source": [
        "import pandas as pd\n",
        "import numpy as np\n",
        "import os\n",
        "import matplotlib.pyplot as plt\n",
        "import statsmodels.tsa.holtwinters as ets"
      ],
      "execution_count": 0,
      "outputs": []
    },
    {
      "cell_type": "code",
      "metadata": {
        "id": "sIr2hMXtGeP4",
        "colab_type": "code",
        "colab": {
          "base_uri": "https://localhost:8080/",
          "height": 36
        },
        "outputId": "0c03a619-70ad-4da7-acc0-aa079c57f3a1"
      },
      "source": [
        "from google.colab import drive\n",
        "drive.mount('/content/gdrive')"
      ],
      "execution_count": 284,
      "outputs": [
        {
          "output_type": "stream",
          "text": [
            "Drive already mounted at /content/gdrive; to attempt to forcibly remount, call drive.mount(\"/content/gdrive\", force_remount=True).\n"
          ],
          "name": "stdout"
        }
      ]
    },
    {
      "cell_type": "code",
      "metadata": {
        "scrolled": true,
        "id": "q7m5DjCLGF2a",
        "colab_type": "code",
        "colab": {
          "base_uri": "https://localhost:8080/",
          "height": 206
        },
        "outputId": "7db51228-fe94-4b5b-c6c6-a572eacb4886"
      },
      "source": [
        "Afghanistan_Train = pd.read_csv(r\"/content/Afganistan_Train.csv\")\n",
        "Afghanistan_Train['LogConfirmedCases'] = np.log(Afghanistan_Train['ConfirmedCases'].replace(0,np.nan))\n",
        "Afghanistan_Train.head()"
      ],
      "execution_count": 285,
      "outputs": [
        {
          "output_type": "execute_result",
          "data": {
            "text/html": [
              "<div>\n",
              "<style scoped>\n",
              "    .dataframe tbody tr th:only-of-type {\n",
              "        vertical-align: middle;\n",
              "    }\n",
              "\n",
              "    .dataframe tbody tr th {\n",
              "        vertical-align: top;\n",
              "    }\n",
              "\n",
              "    .dataframe thead th {\n",
              "        text-align: right;\n",
              "    }\n",
              "</style>\n",
              "<table border=\"1\" class=\"dataframe\">\n",
              "  <thead>\n",
              "    <tr style=\"text-align: right;\">\n",
              "      <th></th>\n",
              "      <th>Id</th>\n",
              "      <th>Province/State</th>\n",
              "      <th>Country/Region</th>\n",
              "      <th>Date</th>\n",
              "      <th>ConfirmedCases</th>\n",
              "      <th>Fatalities</th>\n",
              "      <th>LogConfirmedCases</th>\n",
              "    </tr>\n",
              "  </thead>\n",
              "  <tbody>\n",
              "    <tr>\n",
              "      <th>0</th>\n",
              "      <td>1</td>\n",
              "      <td>NaN</td>\n",
              "      <td>Afghanistan</td>\n",
              "      <td>1/22/20</td>\n",
              "      <td>0</td>\n",
              "      <td>0</td>\n",
              "      <td>NaN</td>\n",
              "    </tr>\n",
              "    <tr>\n",
              "      <th>1</th>\n",
              "      <td>2</td>\n",
              "      <td>NaN</td>\n",
              "      <td>Afghanistan</td>\n",
              "      <td>1/23/20</td>\n",
              "      <td>0</td>\n",
              "      <td>0</td>\n",
              "      <td>NaN</td>\n",
              "    </tr>\n",
              "    <tr>\n",
              "      <th>2</th>\n",
              "      <td>3</td>\n",
              "      <td>NaN</td>\n",
              "      <td>Afghanistan</td>\n",
              "      <td>1/24/20</td>\n",
              "      <td>0</td>\n",
              "      <td>0</td>\n",
              "      <td>NaN</td>\n",
              "    </tr>\n",
              "    <tr>\n",
              "      <th>3</th>\n",
              "      <td>4</td>\n",
              "      <td>NaN</td>\n",
              "      <td>Afghanistan</td>\n",
              "      <td>1/25/20</td>\n",
              "      <td>0</td>\n",
              "      <td>0</td>\n",
              "      <td>NaN</td>\n",
              "    </tr>\n",
              "    <tr>\n",
              "      <th>4</th>\n",
              "      <td>5</td>\n",
              "      <td>NaN</td>\n",
              "      <td>Afghanistan</td>\n",
              "      <td>1/26/20</td>\n",
              "      <td>0</td>\n",
              "      <td>0</td>\n",
              "      <td>NaN</td>\n",
              "    </tr>\n",
              "  </tbody>\n",
              "</table>\n",
              "</div>"
            ],
            "text/plain": [
              "   Id  Province/State  ... Fatalities LogConfirmedCases\n",
              "0   1             NaN  ...          0               NaN\n",
              "1   2             NaN  ...          0               NaN\n",
              "2   3             NaN  ...          0               NaN\n",
              "3   4             NaN  ...          0               NaN\n",
              "4   5             NaN  ...          0               NaN\n",
              "\n",
              "[5 rows x 7 columns]"
            ]
          },
          "metadata": {
            "tags": []
          },
          "execution_count": 285
        }
      ]
    },
    {
      "cell_type": "code",
      "metadata": {
        "id": "8bAZ1xgBGF2o",
        "colab_type": "code",
        "colab": {
          "base_uri": "https://localhost:8080/",
          "height": 206
        },
        "outputId": "9c7c7131-114d-4dae-9ab2-eec2eee0faf4"
      },
      "source": [
        "Afghanistan_Test = pd.read_csv(r\"/content/Afghanistan_Test.csv\")\n",
        "Afghanistan_Test.head()"
      ],
      "execution_count": 286,
      "outputs": [
        {
          "output_type": "execute_result",
          "data": {
            "text/html": [
              "<div>\n",
              "<style scoped>\n",
              "    .dataframe tbody tr th:only-of-type {\n",
              "        vertical-align: middle;\n",
              "    }\n",
              "\n",
              "    .dataframe tbody tr th {\n",
              "        vertical-align: top;\n",
              "    }\n",
              "\n",
              "    .dataframe thead th {\n",
              "        text-align: right;\n",
              "    }\n",
              "</style>\n",
              "<table border=\"1\" class=\"dataframe\">\n",
              "  <thead>\n",
              "    <tr style=\"text-align: right;\">\n",
              "      <th></th>\n",
              "      <th>ForecastId</th>\n",
              "      <th>Province/State</th>\n",
              "      <th>Country/Region</th>\n",
              "      <th>Date</th>\n",
              "      <th>ConfirmedCases</th>\n",
              "      <th>Fatalities</th>\n",
              "      <th>LogConfirmedCases</th>\n",
              "    </tr>\n",
              "  </thead>\n",
              "  <tbody>\n",
              "    <tr>\n",
              "      <th>0</th>\n",
              "      <td>1</td>\n",
              "      <td>NaN</td>\n",
              "      <td>Afghanistan</td>\n",
              "      <td>3/12/20</td>\n",
              "      <td>NaN</td>\n",
              "      <td>NaN</td>\n",
              "      <td>NaN</td>\n",
              "    </tr>\n",
              "    <tr>\n",
              "      <th>1</th>\n",
              "      <td>2</td>\n",
              "      <td>NaN</td>\n",
              "      <td>Afghanistan</td>\n",
              "      <td>3/13/20</td>\n",
              "      <td>NaN</td>\n",
              "      <td>NaN</td>\n",
              "      <td>NaN</td>\n",
              "    </tr>\n",
              "    <tr>\n",
              "      <th>2</th>\n",
              "      <td>3</td>\n",
              "      <td>NaN</td>\n",
              "      <td>Afghanistan</td>\n",
              "      <td>3/14/20</td>\n",
              "      <td>NaN</td>\n",
              "      <td>NaN</td>\n",
              "      <td>NaN</td>\n",
              "    </tr>\n",
              "    <tr>\n",
              "      <th>3</th>\n",
              "      <td>4</td>\n",
              "      <td>NaN</td>\n",
              "      <td>Afghanistan</td>\n",
              "      <td>3/15/20</td>\n",
              "      <td>NaN</td>\n",
              "      <td>NaN</td>\n",
              "      <td>NaN</td>\n",
              "    </tr>\n",
              "    <tr>\n",
              "      <th>4</th>\n",
              "      <td>5</td>\n",
              "      <td>NaN</td>\n",
              "      <td>Afghanistan</td>\n",
              "      <td>3/16/20</td>\n",
              "      <td>NaN</td>\n",
              "      <td>NaN</td>\n",
              "      <td>NaN</td>\n",
              "    </tr>\n",
              "  </tbody>\n",
              "</table>\n",
              "</div>"
            ],
            "text/plain": [
              "   ForecastId  Province/State  ... Fatalities LogConfirmedCases\n",
              "0           1             NaN  ...        NaN               NaN\n",
              "1           2             NaN  ...        NaN               NaN\n",
              "2           3             NaN  ...        NaN               NaN\n",
              "3           4             NaN  ...        NaN               NaN\n",
              "4           5             NaN  ...        NaN               NaN\n",
              "\n",
              "[5 rows x 7 columns]"
            ]
          },
          "metadata": {
            "tags": []
          },
          "execution_count": 286
        }
      ]
    },
    {
      "cell_type": "code",
      "metadata": {
        "id": "_kjHjGXkGF26",
        "colab_type": "code",
        "colab": {
          "base_uri": "https://localhost:8080/",
          "height": 314
        },
        "outputId": "794686c4-7332-4bc1-c5fe-5b9d0c86d745"
      },
      "source": [
        "ax = Afghanistan_Train.plot(kind = 'line', x ='Date', y = 'ConfirmedCases', title = 'Confirmed Cases', legend=False)\n",
        "ax.set_xlabel('Date')\n",
        "ax.set_ylabel('Number of Cases')\n",
        "ax"
      ],
      "execution_count": 287,
      "outputs": [
        {
          "output_type": "execute_result",
          "data": {
            "text/plain": [
              "<matplotlib.axes._subplots.AxesSubplot at 0x7f5c1ac9feb8>"
            ]
          },
          "metadata": {
            "tags": []
          },
          "execution_count": 287
        },
        {
          "output_type": "display_data",
          "data": {
            "image/png": "[encoded data removed]",
            "text/plain": [
              "<Figure size 432x288 with 1 Axes>"
            ]
          },
          "metadata": {
            "tags": []
          }
        }
      ]
    },
    {
      "cell_type": "code",
      "metadata": {
        "id": "ucxWUunvGF3F",
        "colab_type": "code",
        "colab": {
          "base_uri": "https://localhost:8080/",
          "height": 314
        },
        "outputId": "26f675f9-8275-4801-9324-45a86c40b01d"
      },
      "source": [
        "ax = Afghanistan_Train.plot(kind = 'line', x ='Date', y = 'LogConfirmedCases', title='Log-scale Confirmed Cases', legend=False)\n",
        "ax.set_xlabel('Date')\n",
        "ax.set_ylabel('Number of Log Confirmed Cases')\n",
        "ax"
      ],
      "execution_count": 288,
      "outputs": [
        {
          "output_type": "execute_result",
          "data": {
            "text/plain": [
              "<matplotlib.axes._subplots.AxesSubplot at 0x7f5c1ab34470>"
            ]
          },
          "metadata": {
            "tags": []
          },
          "execution_count": 288
        },
        {
          "output_type": "display_data",
          "data": {
            "image/png": "[encoded data removed]",
            "text/plain": [
              "<Figure size 432x288 with 1 Axes>"
            ]
          },
          "metadata": {
            "tags": []
          }
        }
      ]
    },
    {
      "cell_type": "code",
      "metadata": {
        "id": "xpXEVaQLGF3P",
        "colab_type": "code",
        "colab": {}
      },
      "source": [
        "Afghanistan_Train_Forcast = Afghanistan_Train[['Date','LogConfirmedCases']]\n",
        "Afghanistan_Train_Forcast = Afghanistan_Train_Forcast.set_index('Date')\n",
        "Afghanistan_Train_Forcast = Afghanistan_Train_Forcast.fillna(0)\n",
        "Afghanistan_Test_Forcast  = Afghanistan_Test[['Date','LogConfirmedCases']]\n",
        "Afghanistan_Test_Forcast = Afghanistan_Test_Forcast.set_index('Date')"
      ],
      "execution_count": 0,
      "outputs": []
    },
    {
      "cell_type": "code",
      "metadata": {
        "id": "oF7bi3pxGF3X",
        "colab_type": "code",
        "colab": {
          "base_uri": "https://localhost:8080/",
          "height": 113
        },
        "outputId": "7ed79b0e-4fdb-478e-ed0a-e4ab8a3a71d3"
      },
      "source": [
        "Holt_Afghanistan_Train = ets.ExponentialSmoothing(Afghanistan_Train_Forcast, trend = 'additive', damped = True, seasonal = None).fit(smoothing_slope = 0.99)\n",
        "Holt_Afghanistan_Forecast = Holt_Afghanistan_Train.forecast(steps = len(Afghanistan_Test_Forcast))\n",
        "Holt_Afghanistan_Forecast = Holt_Afghanistan_Forecast.to_frame()\n",
        "Holt_Afghanistan_Forecast.columns = ['LogConfirmedCases']"
      ],
      "execution_count": 290,
      "outputs": [
        {
          "output_type": "stream",
          "text": [
            "/usr/local/lib/python3.6/dist-packages/statsmodels/tsa/base/tsa_model.py:165: ValueWarning: No frequency information was provided, so inferred frequency D will be used.\n",
            "  % freq, ValueWarning)\n",
            "/usr/local/lib/python3.6/dist-packages/statsmodels/tsa/holtwinters.py:712: ConvergenceWarning: Optimization failed to converge. Check mle_retvals.\n",
            "  ConvergenceWarning)\n"
          ],
          "name": "stderr"
        }
      ]
    },
    {
      "cell_type": "code",
      "metadata": {
        "id": "SgiWVGQzGF3d",
        "colab_type": "code",
        "colab": {}
      },
      "source": [
        "ConfirmedCases_Forecast_Afghanistan = np.exp(Holt_Afghanistan_Forecast['LogConfirmedCases'])\n",
        "Fatalities_Forecast_Afghanistan = ConfirmedCases_Forecast_Afghanistan * 0.04"
      ],
      "execution_count": 0,
      "outputs": []
    },
    {
      "cell_type": "code",
      "metadata": {
        "id": "O-zJ7TfJGF3o",
        "colab_type": "code",
        "colab": {}
      },
      "source": [
        "Afghanistan_Test['ConfirmedCases'] = ConfirmedCases_Forecast_Afghanistan.values\n",
        "Afghanistan_Test['Fatalities'] = Fatalities_Forecast_Afghanistan.values\n",
        "Afghanistan_Test['LogConfirmedCases'] = Holt_Afghanistan_Forecast.values"
      ],
      "execution_count": 0,
      "outputs": []
    },
    {
      "cell_type": "code",
      "metadata": {
        "id": "g_pmiHVPGF3u",
        "colab_type": "code",
        "colab": {}
      },
      "source": [
        "Afghanistan_Test_Merge = Afghanistan_Test.drop(['ForecastId'],axis=1)\n",
        "Afghanistan_Train_Merge = Afghanistan_Train.drop(['Id'],axis=1)\n",
        "Afghanistan_Final = Afghanistan_Train_Merge.append(Afghanistan_Test_Merge)\n"
      ],
      "execution_count": 0,
      "outputs": []
    },
    {
      "cell_type": "code",
      "metadata": {
        "id": "IBhqOu0zGF35",
        "colab_type": "code",
        "colab": {
          "base_uri": "https://localhost:8080/",
          "height": 314
        },
        "outputId": "8e9ba989-aead-4310-8bbd-e56565bb1122"
      },
      "source": [
        "ax = Afghanistan_Final.plot(kind = 'line', x ='Date', y = 'ConfirmedCases', title='Case Forcast',legend=False)\n",
        "ax.set_xlabel('Date')\n",
        "ax.set_ylabel('Number of Cases')\n",
        "ax"
      ],
      "execution_count": 294,
      "outputs": [
        {
          "output_type": "execute_result",
          "data": {
            "text/plain": [
              "<matplotlib.axes._subplots.AxesSubplot at 0x7f5c1a495320>"
            ]
          },
          "metadata": {
            "tags": []
          },
          "execution_count": 294
        },
        {
          "output_type": "display_data",
          "data": {
            "image/png": "[encoded data removed]",
            "text/plain": [
              "<Figure size 432x288 with 1 Axes>"
            ]
          },
          "metadata": {
            "tags": []
          }
        }
      ]
    },
    {
      "cell_type": "code",
      "metadata": {
        "id": "L1vTrz4rGF4E",
        "colab_type": "code",
        "colab": {
          "base_uri": "https://localhost:8080/",
          "height": 314
        },
        "outputId": "557e6529-1088-40a1-b1d7-1ddd6af4368f"
      },
      "source": [
        "ax = Afghanistan_Final.plot(kind = 'line', x ='Date', y = 'Fatalities', title='Fatal Case Forecast',legend=False)\n",
        "ax.set_xlabel('Date')\n",
        "ax.set_ylabel('Number of Deaths')\n",
        "ax"
      ],
      "execution_count": 295,
      "outputs": [
        {
          "output_type": "execute_result",
          "data": {
            "text/plain": [
              "<matplotlib.axes._subplots.AxesSubplot at 0x7f5c1a3f5f28>"
            ]
          },
          "metadata": {
            "tags": []
          },
          "execution_count": 295
        },
        {
          "output_type": "display_data",
          "data": {
            "image/png": "[encoded data removed]",
            "text/plain": [
              "<Figure size 432x288 with 1 Axes>"
            ]
          },
          "metadata": {
            "tags": []
          }
        }
      ]
    }
  ]
}